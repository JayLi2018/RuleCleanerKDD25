{
 "cells": [
  {
   "cell_type": "code",
   "execution_count": null,
   "id": "c1b355df",
   "metadata": {},
   "outputs": [],
   "source": [
    "import sys\n",
    "import os\n",
    "sys.path.append(os.path.join(os.getcwd(), \"..\"))"
   ]
  },
  {
   "cell_type": "code",
   "execution_count": null,
   "id": "99217ec3",
   "metadata": {
    "scrolled": true
   },
   "outputs": [],
   "source": [
    "from rulecleaner_src.lfs_tree import keyword_labelling_func_builder\n",
    "from rulecleaner_src.TreeRules import SPAM, HAM, ABSTAIN, PredicateNode\n",
    "from rulecleaner_src.LFRepair import populate_violations, fix_rules_with_solver_input\n",
    "from rulecleaner_src.utils import run_snorkel_with_funcs, select_user_input, clean_text\n",
    "\n",
    "\n",
    "import re\n",
    "import psycopg2\n",
    "import pandas as pd\n",
    "from snorkel.labeling import (\n",
    "\tLabelingFunction, \n",
    "\tlabeling_function, \n",
    "\tPandasLFApplier, \n",
    "\tLFAnalysis,\n",
    "\tfilter_unlabeled_dataframe\n",
    "\t)\n",
    "from snorkel.labeling.model import MajorityLabelVoter, LabelModel\n",
    "import numpy as np\n",
    "import matplotlib.pyplot as plt\n",
    "from collections import Counter\n",
    "import matplotlib.patches as mpatches\n",
    "import pulp\n",
    "from sklearn.metrics import accuracy_score, classification_report\n",
    "import random\n",
    "from collections import deque, defaultdict\n",
    "import numpy as np\n",
    "import pickle\n",
    "import pydot\n",
    "from IPython.display import Image, display \n",
    "import datetime\n",
    "import itertools"
   ]
  },
  {
   "cell_type": "code",
   "execution_count": null,
   "id": "bd7776d7",
   "metadata": {},
   "outputs": [],
   "source": [
    "from rulecleaner_src.example_tree_rules import (\n",
    "gen_amazon_funcs,\n",
    "gen_professor_teacher_funcs,\n",
    "gen_painter_architecht_funcs,\n",
    "gen_imdb_funcs,\n",
    "gen_pj_funcs,\n",
    "gen_pp_funcs,\n",
    "gen_yelp_funcs,\n",
    "gen_plots_funcs,\n",
    "gen_fakenews_funcs,\n",
    "gen_dbpedia_funcs,\n",
    "gen_agnews_funcs,\n",
    "gen_tweets_funcs,\n",
    "gen_spam_funcs\n",
    ")"
   ]
  },
  {
   "cell_type": "code",
   "execution_count": null,
   "id": "b1f55038",
   "metadata": {},
   "outputs": [],
   "source": [
    "dataset_dict = {\n",
    "    \"plots\": gen_plots_funcs,\n",
    "    \"amazon\": gen_amazon_funcs,\n",
    "    \"dbpedia\": gen_dbpedia_funcs,\n",
    "    \"agnews\": gen_agnews_funcs,\n",
    "    \"physician_professor\": gen_pp_funcs,\n",
    "    \"imdb\": gen_imdb_funcs,\n",
    "    \"fakenews\": gen_fakenews_funcs,\n",
    "    \"yelp\": gen_yelp_funcs,\n",
    "    \"photographer_journalist\": gen_pj_funcs,\n",
    "    \"professor_teacher\": gen_professor_teacher_funcs,\n",
    "    \"painter_architect\": gen_painter_architecht_funcs,\n",
    "    \"tweets\": gen_tweets_funcs,\n",
    "    \"spam\": gen_spam_funcs,\n",
    "}"
   ]
  },
  {
   "cell_type": "code",
   "execution_count": null,
   "id": "3165576c",
   "metadata": {},
   "outputs": [],
   "source": [
    "from rulecleaner_src.main import main"
   ]
  },
  {
   "cell_type": "code",
   "execution_count": null,
   "id": "a0bee147",
   "metadata": {},
   "outputs": [],
   "source": [
    "\n",
    "user_input_sizes = [40, 80]\n",
    "random_states = [1,2,3,4,5,6,7,8, 9, 10]\n",
    "lf_acc_threshs = [0.7]\n",
    "instance_acc_threshs = [0.8]\n",
    "non_abstain_threshs = [0.8]\n",
    "datasets = list(dataset_dict)\n",
    "func_dictionary = [dataset_dict]\n",
    "instance_acc_on_valids=[False]\n",
    "use_non_abstains=[False]\n",
    "pfile_name_prefix = ('test_folder/test_run',)\n",
    "\n"
   ]
  },
  {
   "cell_type": "code",
   "execution_count": null,
   "id": "393647cc",
   "metadata": {},
   "outputs": [],
   "source": [
    "input_params = list(itertools.product(\n",
    "    user_input_sizes,\n",
    "    lf_acc_threshs,\n",
    "    instance_acc_threshs,\n",
    "    non_abstain_threshs,\n",
    "    datasets,\n",
    "    random_states,\n",
    "    func_dictionary,\n",
    "    instance_acc_on_valids,\n",
    "    use_non_abstains,\n",
    "    pfile_name_prefix\n",
    "))\n"
   ]
  },
  {
   "cell_type": "code",
   "execution_count": null,
   "id": "55a5fe6a",
   "metadata": {
    "scrolled": true
   },
   "outputs": [],
   "source": [
    "for ip in input_params:\n",
    "    main(*ip)"
   ]
  }
 ],
 "metadata": {
  "kernelspec": {
   "display_name": "Python 3 (ipykernel)",
   "language": "python",
   "name": "python3"
  },
  "language_info": {
   "codemirror_mode": {
    "name": "ipython",
    "version": 3
   },
   "file_extension": ".py",
   "mimetype": "text/x-python",
   "name": "python",
   "nbconvert_exporter": "python",
   "pygments_lexer": "ipython3",
   "version": "3.8.0"
  }
 },
 "nbformat": 4,
 "nbformat_minor": 5
}
