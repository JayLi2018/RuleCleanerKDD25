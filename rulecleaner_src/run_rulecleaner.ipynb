{
 "cells": [
  {
   "cell_type": "code",
   "execution_count": 1,
   "id": "c1b355df",
   "metadata": {},
   "outputs": [],
   "source": [
    "import sys\n",
    "import os\n",
    "sys.path.append(os.path.join(os.getcwd(), \"..\"))"
   ]
  },
  {
   "cell_type": "code",
   "execution_count": 2,
   "id": "99217ec3",
   "metadata": {
    "scrolled": true
   },
   "outputs": [
    {
     "name": "stderr",
     "output_type": "stream",
     "text": [
      "[nltk_data] Downloading package words to /Users/chenjieli/nltk_data...\n",
      "[nltk_data]   Package words is already up-to-date!\n",
      "[nltk_data] Downloading package stopwords to\n",
      "[nltk_data]     /Users/chenjieli/nltk_data...\n",
      "[nltk_data]   Package stopwords is already up-to-date!\n"
     ]
    }
   ],
   "source": [
    "from rulecleaner_src.lfs_tree import keyword_labelling_func_builder\n",
    "from rulecleaner_src.TreeRules import SPAM, HAM, ABSTAIN, PredicateNode\n",
    "from rulecleaner_src.LFRepair import populate_violations, fix_rules_with_solver_input\n",
    "from rulecleaner_src.utils import run_snorkel_with_funcs, select_user_input, clean_text\n",
    "\n",
    "\n",
    "import re\n",
    "import psycopg2\n",
    "import pandas as pd\n",
    "from snorkel.labeling import (\n",
    "\tLabelingFunction, \n",
    "\tlabeling_function, \n",
    "\tPandasLFApplier, \n",
    "\tLFAnalysis,\n",
    "\tfilter_unlabeled_dataframe\n",
    "\t)\n",
    "from snorkel.labeling.model import MajorityLabelVoter, LabelModel\n",
    "import numpy as np\n",
    "import matplotlib.pyplot as plt\n",
    "from collections import Counter\n",
    "import matplotlib.patches as mpatches\n",
    "import pulp\n",
    "from sklearn.metrics import accuracy_score, classification_report\n",
    "import random\n",
    "from collections import deque, defaultdict\n",
    "import numpy as np\n",
    "import pickle\n",
    "from IPython.display import Image, display \n",
    "import datetime\n",
    "import itertools"
   ]
  },
  {
   "cell_type": "code",
   "execution_count": 3,
   "id": "bd7776d7",
   "metadata": {},
   "outputs": [],
   "source": [
    "# from rulecleaner_src.example_tree_rules import (\n",
    "# gen_amazon_funcs,\n",
    "# gen_professor_teacher_funcs,\n",
    "# gen_painter_architecht_funcs,\n",
    "# gen_imdb_funcs,\n",
    "# gen_pj_funcs,\n",
    "# gen_pp_funcs,\n",
    "# gen_yelp_funcs,\n",
    "# gen_plots_funcs,\n",
    "# gen_fakenews_funcs,\n",
    "# gen_dbpedia_funcs,\n",
    "# gen_agnews_funcs,\n",
    "# gen_tweets_funcs,\n",
    "# gen_spam_funcs\n",
    "# )\n",
    "\n",
    "from rulecleaner_src.example_tree_rules import (\n",
    "gen_agnews_funcs_4_class\n",
    ")"
   ]
  },
  {
   "cell_type": "code",
   "execution_count": 4,
   "id": "b1f55038",
   "metadata": {},
   "outputs": [],
   "source": [
    "# dataset_dict = {\n",
    "#     \"plots\": gen_plots_funcs,\n",
    "#     \"amazon\": gen_amazon_funcs,\n",
    "#     \"dbpedia\": gen_dbpedia_funcs,\n",
    "#     \"agnews\": gen_agnews_funcs,\n",
    "#     \"physician_professor\": gen_pp_funcs,\n",
    "#     \"imdb\": gen_imdb_funcs,\n",
    "#     \"fakenews\": gen_fakenews_funcs,\n",
    "#     \"yelp\": gen_yelp_funcs,\n",
    "#     \"photographer_journalist\": gen_pj_funcs,\n",
    "#     \"professor_teacher\": gen_professor_teacher_funcs,\n",
    "#     \"painter_architect\": gen_painter_architecht_funcs,\n",
    "#     \"tweets\": gen_tweets_funcs,\n",
    "#     \"spam\": gen_spam_funcs,\n",
    "# }\n",
    "\n",
    "dataset_dict = {'agnews4': gen_agnews_funcs_4_class}"
   ]
  },
  {
   "cell_type": "code",
   "execution_count": 5,
   "id": "3165576c",
   "metadata": {},
   "outputs": [],
   "source": [
    "from rulecleaner_src.main import main"
   ]
  },
  {
   "cell_type": "code",
   "execution_count": 6,
   "id": "a0bee147",
   "metadata": {},
   "outputs": [],
   "source": [
    "\n",
    "# user_input_sizes = [40, 80]\n",
    "# random_states = [1,2,3,4,5,6,7,8, 9, 10]\n",
    "# lf_acc_threshs = [0.7]\n",
    "# instance_acc_threshs = [0.8]\n",
    "# non_abstain_threshs = [0.8]\n",
    "# datasets = list(dataset_dict)\n",
    "# func_dictionary = [dataset_dict]\n",
    "# instance_acc_on_valids=[False]\n",
    "# use_non_abstains=[False]\n",
    "# pfile_name_prefix = ('test_folder/test_run',)\n",
    "\n",
    "\n",
    "user_input_sizes = [40]\n",
    "random_states = [1]\n",
    "lf_acc_threshs = [0.7]\n",
    "instance_acc_threshs = [0.8]\n",
    "non_abstain_threshs = [0.8]\n",
    "datasets = list(dataset_dict)\n",
    "func_dictionary = [dataset_dict]\n",
    "instance_acc_on_valids=[False]\n",
    "use_non_abstains=[False]\n",
    "pfile_name_prefix = ('test_folder_multi_class/test_run',)\n",
    "num_class=[4]\n"
   ]
  },
  {
   "cell_type": "code",
   "execution_count": 7,
   "id": "393647cc",
   "metadata": {},
   "outputs": [],
   "source": [
    "input_params = list(itertools.product(\n",
    "    user_input_sizes,\n",
    "    lf_acc_threshs,\n",
    "    instance_acc_threshs,\n",
    "    non_abstain_threshs,\n",
    "    datasets,\n",
    "    random_states,\n",
    "    func_dictionary,\n",
    "    instance_acc_on_valids,\n",
    "    use_non_abstains,\n",
    "    pfile_name_prefix,\n",
    "    ['witan'],\n",
    "    num_class\n",
    "))\n"
   ]
  },
  {
   "cell_type": "code",
   "execution_count": 8,
   "id": "12f25219-3d4a-42e2-af10-db43a5172bdf",
   "metadata": {},
   "outputs": [
    {
     "data": {
      "text/plain": [
       "[(40,\n",
       "  0.7,\n",
       "  0.8,\n",
       "  0.8,\n",
       "  'agnews4',\n",
       "  1,\n",
       "  {'agnews4': <function rulecleaner_src.example_tree_rules.gen_agnews_funcs_4_class()>},\n",
       "  False,\n",
       "  False,\n",
       "  'test_folder_multi_class/test_run',\n",
       "  'witan',\n",
       "  4)]"
      ]
     },
     "execution_count": 8,
     "metadata": {},
     "output_type": "execute_result"
    }
   ],
   "source": [
    "input_params"
   ]
  },
  {
   "cell_type": "code",
   "execution_count": null,
   "id": "55a5fe6a",
   "metadata": {
    "scrolled": true
   },
   "outputs": [
    {
     "name": "stdout",
     "output_type": "stream",
     "text": [
      "user_input_size = 40\n",
      "lf_acc_thresh = 0.7\n",
      "instance_acc_thresh = 0.8\n",
      "min_non_abstain_thresh = 0.8\n",
      "dataset_name = agnews4\n",
      "random_state = 1\n",
      "funcs_dictionary = {'agnews4': <function gen_agnews_funcs_4_class at 0x127d57b50>}\n",
      "instance_acc_on_valid = False\n",
      "use_non_abstain = False\n",
      "pickle_result_file_name_prefix = test_folder_multi_class/test_run\n",
      "lf_source = witan\n",
      "num_possible_labels = 4\n",
      "func names:\n",
      "\n",
      "rid:0PredicateNode(id=1, pred=keyword_predicate-word-(atomic,captives,baghdad,israeli,iraqis,iranian,afghanistan,wounding,terrorism,soldiers,palestinians,palestinian,policemen,iraqi,terrorist,north korea,korea,israel,u.n.,egypt,iran,iraq,nato,armed,peace))\n",
      "    LabelNode(id=2, label=-1)\n",
      "    LabelNode(id=3, label=0)*************************\n",
      "rid:1PredicateNode(id=1, pred=keyword_predicate-word-( war ,prime minister,president,commander,minister,annan,military,militant,kill,operator))\n",
      "    LabelNode(id=2, label=-1)\n",
      "    LabelNode(id=3, label=0)*************************\n",
      "rid:2PredicateNode(id=1, pred=keyword_predicate-word-(goals,bledsoe,coaches,touchdowns,kansas,rankings,no.,champ,cricketers,hockey,champions,quarterback,club,team,baseball,basketball,soccer,football,boxing,swimming,world cup,nba,olympics,final,finals,fifa,racist,racism))\n",
      "    LabelNode(id=2, label=-1)\n",
      "    LabelNode(id=3, label=1)*************************\n",
      "rid:3PredicateNode(id=1, pred=keyword_predicate-word-(athlete,striker,defender,goalkeeper,midfielder,shooting guard,power forward,point guard,pitcher,catcher,first base,second base,third base,shortstop,fielder))\n",
      "    LabelNode(id=2, label=-1)\n",
      "    LabelNode(id=3, label=1)*************************\n",
      "rid:4PredicateNode(id=1, pred=keyword_predicate-word-(lakers,chelsea,piston,cavaliers,rockets,clippers,ronaldo,celtics,hawks,76ers,raptors,pacers,suns,warriors,blazers,knicks,timberwolves,hornets,wizards,nuggets,mavericks,grizzlies,spurs,cowboys,redskins,falcons,panthers,eagles,saints,buccaneers,49ers,cardinals,texans,seahawks,vikings,patriots,colts,jaguars,raiders,chargers,bengals,steelers,browns,braves,marlins,mets,phillies,cubs,brewers,cardinals,diamondbacks,rockies,dodgers,padres,orioles,sox,yankees,jays,sox,indians,tigers,royals,twins,astros,angels,athletics,mariners,rangers,arsenal,burnley,newcastle,leicester,manchester united,everton,southampton,hotspur,tottenham,fulham,watford,sheffield,crystal palace,derby,charlton,aston villa,blackburn,west ham,birmingham city,middlesbrough,real madrid,barcelona,villarreal,valencia,betis,espanyol,levante,sevilla,juventus,inter milan,ac milan,as roma,benfica,porto,getafe,bayern,schalke,bremen,lyon,paris saint,monaco,dynamo))\n",
      "    LabelNode(id=2, label=-1)\n",
      "    LabelNode(id=3, label=1)*************************\n",
      "rid:5PredicateNode(id=1, pred=keyword_predicate-word-(technology,engineering,science,research,cpu,windows,unix,system,computing,compute))\n",
      "    LabelNode(id=2, label=-1)\n",
      "    LabelNode(id=3, label=2)*************************\n",
      "rid:6PredicateNode(id=1, pred=keyword_predicate-word-(google,apple,microsoft,nasa,yahoo,intel,dell,huawei,ibm,siemens,nokia,samsung,panasonic,t-mobile,nvidia,adobe,salesforce,linkedin,silicon,wiki))\n",
      "    LabelNode(id=2, label=-1)\n",
      "    LabelNode(id=3, label=2)*************************\n",
      "rid:7PredicateNode(id=1, pred=keyword_predicate-word-(stock,account,financ,goods,retail,economy,chairman,bank,deposit,economic,dow jones,index,$,percent,interest rate,growth,profit,tax,loan,credit,invest))\n",
      "    LabelNode(id=2, label=-1)\n",
      "    LabelNode(id=3, label=3)*************************\n",
      "rid:8PredicateNode(id=1, pred=keyword_predicate-word-(delta,cola,toyota,costco,gucci,citibank,airlines))\n",
      "    LabelNode(id=2, label=-1)\n",
      "    LabelNode(id=3, label=3)\n"
     ]
    },
    {
     "name": "stderr",
     "output_type": "stream",
     "text": [
      "/Users/chenjieli/Desktop/RuleCleaner/rulecleaner_src/../rulecleaner_src/utils.py:27: UserWarning: pandas only supports SQLAlchemy connectable (engine/connection) or database string URI or sqlite3 DBAPI2 connection. Other DBAPI2 objects are not tested. Please consider using SQLAlchemy.\n",
      "  sentences_df=pd.read_sql(f'SELECT * FROM {dataset_name}', conn)\n"
     ]
    }
   ],
   "source": [
    "for ip in input_params:\n",
    "    main(*ip)"
   ]
  },
  {
   "cell_type": "code",
   "execution_count": null,
   "id": "7c5c7b81-7d20-41a2-86ab-a1955439b3ac",
   "metadata": {},
   "outputs": [],
   "source": []
  }
 ],
 "metadata": {
  "kernelspec": {
   "display_name": "Python 3 (ipykernel)",
   "language": "python",
   "name": "python3"
  },
  "language_info": {
   "codemirror_mode": {
    "name": "ipython",
    "version": 3
   },
   "file_extension": ".py",
   "mimetype": "text/x-python",
   "name": "python",
   "nbconvert_exporter": "python",
   "pygments_lexer": "ipython3",
   "version": "3.10.0"
  }
 },
 "nbformat": 4,
 "nbformat_minor": 5
}
