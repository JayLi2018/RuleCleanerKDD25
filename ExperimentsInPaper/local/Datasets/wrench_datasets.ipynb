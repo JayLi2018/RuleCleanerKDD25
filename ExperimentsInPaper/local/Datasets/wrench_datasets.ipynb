{
 "cells": [
  {
   "cell_type": "code",
   "execution_count": 1,
   "id": "958394a0-1381-4191-bd2f-5bc7666fe53c",
   "metadata": {},
   "outputs": [
    {
     "data": {
      "application/vnd.jupyter.widget-view+json": {
       "model_id": "043177e86f94485f95477fa9f42c6b6a",
       "version_major": 2,
       "version_minor": 0
      },
      "text/plain": [
       "Fetching 142 files:   0%|          | 0/142 [00:00<?, ?it/s]"
      ]
     },
     "metadata": {},
     "output_type": "display_data"
    },
    {
     "data": {
      "application/vnd.jupyter.widget-view+json": {
       "model_id": "6da48bac9c9247bfab1ac1aa93452395",
       "version_major": 2,
       "version_minor": 0
      },
      "text/plain": [
       "README.md:   0%|          | 0.00/1.09k [00:00<?, ?B/s]"
      ]
     },
     "metadata": {},
     "output_type": "display_data"
    },
    {
     "data": {
      "application/vnd.jupyter.widget-view+json": {
       "model_id": "86eefc5e534e451ba88e013f34b835fa",
       "version_major": 2,
       "version_minor": 0
      },
      "text/plain": [
       "classification/Bioresponse/valid.json:   0%|          | 0.00/3.74M [00:00<?, ?B/s]"
      ]
     },
     "metadata": {},
     "output_type": "display_data"
    },
    {
     "data": {
      "application/vnd.jupyter.widget-view+json": {
       "model_id": "0bb63f1b3fe84bf58ad4ff79ec660f30",
       "version_major": 2,
       "version_minor": 0
      },
      "text/plain": [
       "classification/Bioresponse/test.json:   0%|          | 0.00/3.74M [00:00<?, ?B/s]"
      ]
     },
     "metadata": {},
     "output_type": "display_data"
    },
    {
     "data": {
      "application/vnd.jupyter.widget-view+json": {
       "model_id": "f56e1976c4604c8194e190fc3d87fbc1",
       "version_major": 2,
       "version_minor": 0
      },
      "text/plain": [
       "classification/Bioresponse/label.json:   0%|          | 0.00/24.0 [00:00<?, ?B/s]"
      ]
     },
     "metadata": {},
     "output_type": "display_data"
    },
    {
     "data": {
      "application/vnd.jupyter.widget-view+json": {
       "model_id": "522a21e4ccc84299ae41b70120651ef0",
       "version_major": 2,
       "version_minor": 0
      },
      "text/plain": [
       "(…)assification/PhishingWebsites/label.json:   0%|          | 0.00/25.0 [00:00<?, ?B/s]"
      ]
     },
     "metadata": {},
     "output_type": "display_data"
    },
    {
     "data": {
      "application/vnd.jupyter.widget-view+json": {
       "model_id": "dd7a26b9a4684a0e85a41b7958a23bbe",
       "version_major": 2,
       "version_minor": 0
      },
      "text/plain": [
       "(…)assification/PhishingWebsites/rules.json:   0%|          | 0.00/9.43k [00:00<?, ?B/s]"
      ]
     },
     "metadata": {},
     "output_type": "display_data"
    },
    {
     "data": {
      "application/vnd.jupyter.widget-view+json": {
       "model_id": "7774a1247d5a41aa8822eab0a60905bf",
       "version_major": 2,
       "version_minor": 0
      },
      "text/plain": [
       ".gitattributes:   0%|          | 0.00/3.57k [00:00<?, ?B/s]"
      ]
     },
     "metadata": {},
     "output_type": "display_data"
    },
    {
     "data": {
      "application/vnd.jupyter.widget-view+json": {
       "model_id": "0389425fe4a141a19ad6c378fba420db",
       "version_major": 2,
       "version_minor": 0
      },
      "text/plain": [
       "(…)lassification/PhishingWebsites/test.json:   0%|          | 0.00/231k [00:00<?, ?B/s]"
      ]
     },
     "metadata": {},
     "output_type": "display_data"
    },
    {
     "data": {
      "application/vnd.jupyter.widget-view+json": {
       "model_id": "026e6d3cd2114c63a2845e0a185942f0",
       "version_major": 2,
       "version_minor": 0
      },
      "text/plain": [
       "(…)assification/PhishingWebsites/train.json:   0%|          | 0.00/1.86M [00:00<?, ?B/s]"
      ]
     },
     "metadata": {},
     "output_type": "display_data"
    },
    {
     "data": {
      "application/vnd.jupyter.widget-view+json": {
       "model_id": "cc2495ea18f34e8db4b640e557de0641",
       "version_major": 2,
       "version_minor": 0
      },
      "text/plain": [
       "train.json:   0%|          | 0.00/29.9M [00:00<?, ?B/s]"
      ]
     },
     "metadata": {},
     "output_type": "display_data"
    },
    {
     "data": {
      "application/vnd.jupyter.widget-view+json": {
       "model_id": "975cba7649cc4d048ed3e4609ada0128",
       "version_major": 2,
       "version_minor": 0
      },
      "text/plain": [
       "classification/Bioresponse/rules.json:   0%|          | 0.00/12.1k [00:00<?, ?B/s]"
      ]
     },
     "metadata": {},
     "output_type": "display_data"
    },
    {
     "data": {
      "application/vnd.jupyter.widget-view+json": {
       "model_id": "92008efcb9144f92adc91f38ae87829e",
       "version_major": 2,
       "version_minor": 0
      },
      "text/plain": [
       "Animals_with_Attributes2.zip:   0%|          | 0.00/2.53G [00:00<?, ?B/s]"
      ]
     },
     "metadata": {},
     "output_type": "display_data"
    },
    {
     "data": {
      "application/vnd.jupyter.widget-view+json": {
       "model_id": "b993d081a3ca4302830fdfbd992a3795",
       "version_major": 2,
       "version_minor": 0
      },
      "text/plain": [
       "(…)assification/PhishingWebsites/valid.json:   0%|          | 0.00/231k [00:00<?, ?B/s]"
      ]
     },
     "metadata": {},
     "output_type": "display_data"
    },
    {
     "data": {
      "application/vnd.jupyter.widget-view+json": {
       "model_id": "a3f94cf366fa4db581d0e9caded3228f",
       "version_major": 2,
       "version_minor": 0
      },
      "text/plain": [
       "classification/agnews/label.json:   0%|          | 0.00/81.0 [00:00<?, ?B/s]"
      ]
     },
     "metadata": {},
     "output_type": "display_data"
    },
    {
     "data": {
      "application/vnd.jupyter.widget-view+json": {
       "model_id": "ea39bf4d46d6472ea66a4279ca2bfc0d",
       "version_major": 2,
       "version_minor": 0
      },
      "text/plain": [
       "classification/agnews/readme.txt:   0%|          | 0.00/3.35k [00:00<?, ?B/s]"
      ]
     },
     "metadata": {},
     "output_type": "display_data"
    },
    {
     "data": {
      "application/vnd.jupyter.widget-view+json": {
       "model_id": "2c4472c7b6104edab5bc3fad628908d0",
       "version_major": 2,
       "version_minor": 0
      },
      "text/plain": [
       "classification/agnews/test.json:   0%|          | 0.00/3.50M [00:00<?, ?B/s]"
      ]
     },
     "metadata": {},
     "output_type": "display_data"
    },
    {
     "data": {
      "application/vnd.jupyter.widget-view+json": {
       "model_id": "f1eaee252d314456b4e7e9cb2af166ec",
       "version_major": 2,
       "version_minor": 0
      },
      "text/plain": [
       "classification/bank-marketing/rules.json:   0%|          | 0.00/11.9k [00:00<?, ?B/s]"
      ]
     },
     "metadata": {},
     "output_type": "display_data"
    },
    {
     "data": {
      "application/vnd.jupyter.widget-view+json": {
       "model_id": "9f6b57864c6b4cbbae48d0d3b716a5c4",
       "version_major": 2,
       "version_minor": 0
      },
      "text/plain": [
       "classification/agnews/valid.json:   0%|          | 0.00/3.46M [00:00<?, ?B/s]"
      ]
     },
     "metadata": {},
     "output_type": "display_data"
    },
    {
     "data": {
      "application/vnd.jupyter.widget-view+json": {
       "model_id": "b7777038f11846c38096ead4916fecb9",
       "version_major": 2,
       "version_minor": 0
      },
      "text/plain": [
       "classification/bank-marketing/label.json:   0%|          | 0.00/24.0 [00:00<?, ?B/s]"
      ]
     },
     "metadata": {},
     "output_type": "display_data"
    },
    {
     "data": {
      "application/vnd.jupyter.widget-view+json": {
       "model_id": "01f56da8e88743fe80a505103b1057bf",
       "version_major": 2,
       "version_minor": 0
      },
      "text/plain": [
       "classification/bank-marketing/test.json:   0%|          | 0.00/1.03M [00:00<?, ?B/s]"
      ]
     },
     "metadata": {},
     "output_type": "display_data"
    },
    {
     "data": {
      "application/vnd.jupyter.widget-view+json": {
       "model_id": "3802b19fb4f149e88e7a5924115e0dff",
       "version_major": 2,
       "version_minor": 0
      },
      "text/plain": [
       "classification/bank-marketing/train.json:   0%|          | 0.00/8.28M [00:00<?, ?B/s]"
      ]
     },
     "metadata": {},
     "output_type": "display_data"
    },
    {
     "data": {
      "application/vnd.jupyter.widget-view+json": {
       "model_id": "801c11b7144e43e4924e992396df9e50",
       "version_major": 2,
       "version_minor": 0
      },
      "text/plain": [
       "train.json:   0%|          | 0.00/28.0M [00:00<?, ?B/s]"
      ]
     },
     "metadata": {},
     "output_type": "display_data"
    },
    {
     "data": {
      "application/vnd.jupyter.widget-view+json": {
       "model_id": "d85f96c968074926b25c49a5285b64aa",
       "version_major": 2,
       "version_minor": 0
      },
      "text/plain": [
       "classification/basketball/label.json:   0%|          | 0.00/16.0 [00:00<?, ?B/s]"
      ]
     },
     "metadata": {},
     "output_type": "display_data"
    },
    {
     "data": {
      "application/vnd.jupyter.widget-view+json": {
       "model_id": "c3b85c09abb94127b0513e8e08d483ca",
       "version_major": 2,
       "version_minor": 0
      },
      "text/plain": [
       "classification/bank-marketing/valid.json:   0%|          | 0.00/1.03M [00:00<?, ?B/s]"
      ]
     },
     "metadata": {},
     "output_type": "display_data"
    },
    {
     "data": {
      "application/vnd.jupyter.widget-view+json": {
       "model_id": "4cbb81a7263a4a5298db3ce988442bfd",
       "version_major": 2,
       "version_minor": 0
      },
      "text/plain": [
       "classification/basketball/readme.txt:   0%|          | 0.00/644 [00:00<?, ?B/s]"
      ]
     },
     "metadata": {},
     "output_type": "display_data"
    },
    {
     "data": {
      "application/vnd.jupyter.widget-view+json": {
       "model_id": "3c0df4e538b14977b8aa1c2db9fd8e93",
       "version_major": 2,
       "version_minor": 0
      },
      "text/plain": [
       "test.json:   0%|          | 0.00/52.4M [00:00<?, ?B/s]"
      ]
     },
     "metadata": {},
     "output_type": "display_data"
    },
    {
     "data": {
      "application/vnd.jupyter.widget-view+json": {
       "model_id": "f0ef0e0b1c294222b639b1c72934717d",
       "version_major": 2,
       "version_minor": 0
      },
      "text/plain": [
       "classification/cdr/label.json:   0%|          | 0.00/34.0 [00:00<?, ?B/s]"
      ]
     },
     "metadata": {},
     "output_type": "display_data"
    },
    {
     "data": {
      "application/vnd.jupyter.widget-view+json": {
       "model_id": "3c3e0b9cb5fe414e9a7b18ac71d1a6bd",
       "version_major": 2,
       "version_minor": 0
      },
      "text/plain": [
       "valid.json:   0%|          | 0.00/45.7M [00:00<?, ?B/s]"
      ]
     },
     "metadata": {},
     "output_type": "display_data"
    },
    {
     "data": {
      "application/vnd.jupyter.widget-view+json": {
       "model_id": "25b71f1590b045e8997bbfbfd3468aca",
       "version_major": 2,
       "version_minor": 0
      },
      "text/plain": [
       "train.json:   0%|          | 0.00/771M [00:00<?, ?B/s]"
      ]
     },
     "metadata": {},
     "output_type": "display_data"
    },
    {
     "data": {
      "application/vnd.jupyter.widget-view+json": {
       "model_id": "dc483716dbaf4a8ba143eeeba5fd91f6",
       "version_major": 2,
       "version_minor": 0
      },
      "text/plain": [
       "classification/cdr/readme.txt:   0%|          | 0.00/9.09k [00:00<?, ?B/s]"
      ]
     },
     "metadata": {},
     "output_type": "display_data"
    },
    {
     "data": {
      "application/vnd.jupyter.widget-view+json": {
       "model_id": "96fa82131b0e436a8b16979e0293de47",
       "version_major": 2,
       "version_minor": 0
      },
      "text/plain": [
       "classification/cdr/test.json:   0%|          | 0.00/3.45M [00:00<?, ?B/s]"
      ]
     },
     "metadata": {},
     "output_type": "display_data"
    },
    {
     "data": {
      "application/vnd.jupyter.widget-view+json": {
       "model_id": "5b3fa18894d648db9694bf093c595504",
       "version_major": 2,
       "version_minor": 0
      },
      "text/plain": [
       "classification/cdr/train.json:   0%|          | 0.00/6.45M [00:00<?, ?B/s]"
      ]
     },
     "metadata": {},
     "output_type": "display_data"
    },
    {
     "data": {
      "application/vnd.jupyter.widget-view+json": {
       "model_id": "a4aabe1af54f43279c9b00dcae844a93",
       "version_major": 2,
       "version_minor": 0
      },
      "text/plain": [
       "classification/cdr/valid.json:   0%|          | 0.00/691k [00:00<?, ?B/s]"
      ]
     },
     "metadata": {},
     "output_type": "display_data"
    },
    {
     "data": {
      "application/vnd.jupyter.widget-view+json": {
       "model_id": "fd60fb063f214e209cfa889d8c0e77aa",
       "version_major": 2,
       "version_minor": 0
      },
      "text/plain": [
       "classification/census/label.json:   0%|          | 0.00/34.0 [00:00<?, ?B/s]"
      ]
     },
     "metadata": {},
     "output_type": "display_data"
    },
    {
     "data": {
      "application/vnd.jupyter.widget-view+json": {
       "model_id": "92b5db1420db46ebae8a3f1a5f244f41",
       "version_major": 2,
       "version_minor": 0
      },
      "text/plain": [
       "classification/census/labeled_ids.json:   0%|          | 0.00/1.54k [00:00<?, ?B/s]"
      ]
     },
     "metadata": {},
     "output_type": "display_data"
    },
    {
     "data": {
      "application/vnd.jupyter.widget-view+json": {
       "model_id": "f16270ce1021422580acd0dec7a58936",
       "version_major": 2,
       "version_minor": 0
      },
      "text/plain": [
       "classification/census/readme.txt:   0%|          | 0.00/576 [00:00<?, ?B/s]"
      ]
     },
     "metadata": {},
     "output_type": "display_data"
    },
    {
     "data": {
      "application/vnd.jupyter.widget-view+json": {
       "model_id": "0006d457618446db83d9de5996c46db2",
       "version_major": 2,
       "version_minor": 0
      },
      "text/plain": [
       "classification/census/train.json:   0%|          | 0.00/9.81M [00:00<?, ?B/s]"
      ]
     },
     "metadata": {},
     "output_type": "display_data"
    },
    {
     "data": {
      "application/vnd.jupyter.widget-view+json": {
       "model_id": "fd08f0ec328a4415b05ec40c6f8970a8",
       "version_major": 2,
       "version_minor": 0
      },
      "text/plain": [
       "classification/census/valid.json:   0%|          | 0.00/5.41M [00:00<?, ?B/s]"
      ]
     },
     "metadata": {},
     "output_type": "display_data"
    },
    {
     "data": {
      "application/vnd.jupyter.widget-view+json": {
       "model_id": "aa23b9300e2d47e3865225fad1706617",
       "version_major": 2,
       "version_minor": 0
      },
      "text/plain": [
       "classification/chemprot/label.json:   0%|          | 0.00/226 [00:00<?, ?B/s]"
      ]
     },
     "metadata": {},
     "output_type": "display_data"
    },
    {
     "data": {
      "application/vnd.jupyter.widget-view+json": {
       "model_id": "622c528f59e248959c3d88bf930f7835",
       "version_major": 2,
       "version_minor": 0
      },
      "text/plain": [
       "test.json:   0%|          | 0.00/15.8M [00:00<?, ?B/s]"
      ]
     },
     "metadata": {},
     "output_type": "display_data"
    },
    {
     "data": {
      "application/vnd.jupyter.widget-view+json": {
       "model_id": "dcf26508d4f54e7ead62dc217f3ec01c",
       "version_major": 2,
       "version_minor": 0
      },
      "text/plain": [
       "classification/chemprot/readme.txt:   0%|          | 0.00/3.40k [00:00<?, ?B/s]"
      ]
     },
     "metadata": {},
     "output_type": "display_data"
    },
    {
     "data": {
      "application/vnd.jupyter.widget-view+json": {
       "model_id": "5990ef5939104cb0848452f0f3094b4a",
       "version_major": 2,
       "version_minor": 0
      },
      "text/plain": [
       "classification/chemprot/test.json:   0%|          | 0.00/743k [00:00<?, ?B/s]"
      ]
     },
     "metadata": {},
     "output_type": "display_data"
    },
    {
     "data": {
      "application/vnd.jupyter.widget-view+json": {
       "model_id": "ef1ed7211c5548f394d7452bb2d4b79e",
       "version_major": 2,
       "version_minor": 0
      },
      "text/plain": [
       "classification/chemprot/train.json:   0%|          | 0.00/5.95M [00:00<?, ?B/s]"
      ]
     },
     "metadata": {},
     "output_type": "display_data"
    },
    {
     "data": {
      "application/vnd.jupyter.widget-view+json": {
       "model_id": "bca8a14364754f38870a94749ff1bef6",
       "version_major": 2,
       "version_minor": 0
      },
      "text/plain": [
       "classification/chemprot/valid.json:   0%|          | 0.00/745k [00:00<?, ?B/s]"
      ]
     },
     "metadata": {},
     "output_type": "display_data"
    },
    {
     "data": {
      "application/vnd.jupyter.widget-view+json": {
       "model_id": "790ae321bc964c5fb8334cbc4c7f4d00",
       "version_major": 2,
       "version_minor": 0
      },
      "text/plain": [
       "classification/commercial/label.json:   0%|          | 0.00/16.0 [00:00<?, ?B/s]"
      ]
     },
     "metadata": {},
     "output_type": "display_data"
    },
    {
     "data": {
      "application/vnd.jupyter.widget-view+json": {
       "model_id": "642e1bd9d4e549509a5b0f31cb82d9f0",
       "version_major": 2,
       "version_minor": 0
      },
      "text/plain": [
       "classification/commercial/readme.txt:   0%|          | 0.00/711 [00:00<?, ?B/s]"
      ]
     },
     "metadata": {},
     "output_type": "display_data"
    },
    {
     "data": {
      "application/vnd.jupyter.widget-view+json": {
       "model_id": "16b037f118d94bdbb65469836de9837c",
       "version_major": 2,
       "version_minor": 0
      },
      "text/plain": [
       "test.json:   0%|          | 0.00/323M [00:00<?, ?B/s]"
      ]
     },
     "metadata": {},
     "output_type": "display_data"
    },
    {
     "data": {
      "application/vnd.jupyter.widget-view+json": {
       "model_id": "fdc7271924d549bfbf3c0064d057299b",
       "version_major": 2,
       "version_minor": 0
      },
      "text/plain": [
       "valid.json:   0%|          | 0.00/408M [00:00<?, ?B/s]"
      ]
     },
     "metadata": {},
     "output_type": "display_data"
    },
    {
     "data": {
      "application/vnd.jupyter.widget-view+json": {
       "model_id": "d8ebf2ddab20420f8c8b70df234492b1",
       "version_major": 2,
       "version_minor": 0
      },
      "text/plain": [
       "train.json:   0%|          | 0.00/2.76G [00:00<?, ?B/s]"
      ]
     },
     "metadata": {},
     "output_type": "display_data"
    },
    {
     "data": {
      "application/vnd.jupyter.widget-view+json": {
       "model_id": "b4684a827d8e4290a4fd526a8f6dd9bd",
       "version_major": 2,
       "version_minor": 0
      },
      "text/plain": [
       "classification/imdb/label.json:   0%|          | 0.00/44.0 [00:00<?, ?B/s]"
      ]
     },
     "metadata": {},
     "output_type": "display_data"
    },
    {
     "data": {
      "application/vnd.jupyter.widget-view+json": {
       "model_id": "3c8b417178b841cbb13ac122a68f1359",
       "version_major": 2,
       "version_minor": 0
      },
      "text/plain": [
       "classification/imdb/readme.txt:   0%|          | 0.00/1.60k [00:00<?, ?B/s]"
      ]
     },
     "metadata": {},
     "output_type": "display_data"
    },
    {
     "data": {
      "application/vnd.jupyter.widget-view+json": {
       "model_id": "4ba630a368b642ee9d0aa62ab47263a2",
       "version_major": 2,
       "version_minor": 0
      },
      "text/plain": [
       "classification/imdb/test.json:   0%|          | 0.00/3.32M [00:00<?, ?B/s]"
      ]
     },
     "metadata": {},
     "output_type": "display_data"
    },
    {
     "data": {
      "application/vnd.jupyter.widget-view+json": {
       "model_id": "72a4f41da0d44f268b81bfc40bc85cd1",
       "version_major": 2,
       "version_minor": 0
      },
      "text/plain": [
       "train.json:   0%|          | 0.00/26.9M [00:00<?, ?B/s]"
      ]
     },
     "metadata": {},
     "output_type": "display_data"
    },
    {
     "data": {
      "application/vnd.jupyter.widget-view+json": {
       "model_id": "3db24e43391941e3a048a1ba16551851",
       "version_major": 2,
       "version_minor": 0
      },
      "text/plain": [
       "classification/imdb/valid.json:   0%|          | 0.00/3.44M [00:00<?, ?B/s]"
      ]
     },
     "metadata": {},
     "output_type": "display_data"
    },
    {
     "data": {
      "application/vnd.jupyter.widget-view+json": {
       "model_id": "344517e57e55440894c6ba6be7207d8c",
       "version_major": 2,
       "version_minor": 0
      },
      "text/plain": [
       "classification/mushroom/rules.json:   0%|          | 0.00/12.5k [00:00<?, ?B/s]"
      ]
     },
     "metadata": {},
     "output_type": "display_data"
    },
    {
     "data": {
      "application/vnd.jupyter.widget-view+json": {
       "model_id": "d7d29e4753274b90bdb18a6b0a0f4b12",
       "version_major": 2,
       "version_minor": 0
      },
      "text/plain": [
       "classification/mushroom/test.json:   0%|          | 0.00/166k [00:00<?, ?B/s]"
      ]
     },
     "metadata": {},
     "output_type": "display_data"
    },
    {
     "data": {
      "application/vnd.jupyter.widget-view+json": {
       "model_id": "74492f15b38a46beadb2902e35f36b97",
       "version_major": 2,
       "version_minor": 0
      },
      "text/plain": [
       "classification/mushroom/train.json:   0%|          | 0.00/1.33M [00:00<?, ?B/s]"
      ]
     },
     "metadata": {},
     "output_type": "display_data"
    },
    {
     "data": {
      "application/vnd.jupyter.widget-view+json": {
       "model_id": "f547c476670e4952b8c6354f939d66b1",
       "version_major": 2,
       "version_minor": 0
      },
      "text/plain": [
       "classification/mushroom/valid.json:   0%|          | 0.00/166k [00:00<?, ?B/s]"
      ]
     },
     "metadata": {},
     "output_type": "display_data"
    },
    {
     "data": {
      "application/vnd.jupyter.widget-view+json": {
       "model_id": "84d139927cfa481d92bad14a2818d629",
       "version_major": 2,
       "version_minor": 0
      },
      "text/plain": [
       "classification/semeval/label.json:   0%|          | 0.00/219 [00:00<?, ?B/s]"
      ]
     },
     "metadata": {},
     "output_type": "display_data"
    },
    {
     "data": {
      "application/vnd.jupyter.widget-view+json": {
       "model_id": "b76108b0a1514519810e49b9db798a1d",
       "version_major": 2,
       "version_minor": 0
      },
      "text/plain": [
       "classification/semeval/readme.txt:   0%|          | 0.00/9.85k [00:00<?, ?B/s]"
      ]
     },
     "metadata": {},
     "output_type": "display_data"
    },
    {
     "data": {
      "application/vnd.jupyter.widget-view+json": {
       "model_id": "f7f5aa4012e1453581b09899d038e6dc",
       "version_major": 2,
       "version_minor": 0
      },
      "text/plain": [
       "classification/semeval/test.json:   0%|          | 0.00/547k [00:00<?, ?B/s]"
      ]
     },
     "metadata": {},
     "output_type": "display_data"
    },
    {
     "data": {
      "application/vnd.jupyter.widget-view+json": {
       "model_id": "d15689335671493c97f234f57b9918c8",
       "version_major": 2,
       "version_minor": 0
      },
      "text/plain": [
       "classification/semeval/train.json:   0%|          | 0.00/1.59M [00:00<?, ?B/s]"
      ]
     },
     "metadata": {},
     "output_type": "display_data"
    },
    {
     "data": {
      "application/vnd.jupyter.widget-view+json": {
       "model_id": "4baa7a029e1a49629f8cbdcf36c03cbd",
       "version_major": 2,
       "version_minor": 0
      },
      "text/plain": [
       "classification/semeval/valid.json:   0%|          | 0.00/162k [00:00<?, ?B/s]"
      ]
     },
     "metadata": {},
     "output_type": "display_data"
    },
    {
     "data": {
      "application/vnd.jupyter.widget-view+json": {
       "model_id": "a6f3aa6fbf7f4c31b09cb81d7a4ee4e5",
       "version_major": 2,
       "version_minor": 0
      },
      "text/plain": [
       "classification/sms/label.json:   0%|          | 0.00/25.0 [00:00<?, ?B/s]"
      ]
     },
     "metadata": {},
     "output_type": "display_data"
    },
    {
     "data": {
      "application/vnd.jupyter.widget-view+json": {
       "model_id": "5fb2e9538ad943e799f2bc5bbafc4a56",
       "version_major": 2,
       "version_minor": 0
      },
      "text/plain": [
       "classification/mushroom/label.json:   0%|          | 0.00/24.0 [00:00<?, ?B/s]"
      ]
     },
     "metadata": {},
     "output_type": "display_data"
    },
    {
     "data": {
      "application/vnd.jupyter.widget-view+json": {
       "model_id": "433b828129cc482689972fb0c19a8ab7",
       "version_major": 2,
       "version_minor": 0
      },
      "text/plain": [
       "classification/sms/labeled_ids.json:   0%|          | 0.00/1.18k [00:00<?, ?B/s]"
      ]
     },
     "metadata": {},
     "output_type": "display_data"
    },
    {
     "data": {
      "application/vnd.jupyter.widget-view+json": {
       "model_id": "50f26f8ed4064fa1930b77f9a1340fea",
       "version_major": 2,
       "version_minor": 0
      },
      "text/plain": [
       "classification/sms/test.json:   0%|          | 0.00/215k [00:00<?, ?B/s]"
      ]
     },
     "metadata": {},
     "output_type": "display_data"
    },
    {
     "data": {
      "application/vnd.jupyter.widget-view+json": {
       "model_id": "e885d4d9c8fa4535b87d81c0005b8ea1",
       "version_major": 2,
       "version_minor": 0
      },
      "text/plain": [
       "classification/sms/train.json:   0%|          | 0.00/1.98M [00:00<?, ?B/s]"
      ]
     },
     "metadata": {},
     "output_type": "display_data"
    },
    {
     "data": {
      "application/vnd.jupyter.widget-view+json": {
       "model_id": "eba2ba6d49954a5595cdcd2f7f3a0792",
       "version_major": 2,
       "version_minor": 0
      },
      "text/plain": [
       "classification/sms/readme.txt:   0%|          | 0.00/11.6k [00:00<?, ?B/s]"
      ]
     },
     "metadata": {},
     "output_type": "display_data"
    },
    {
     "data": {
      "application/vnd.jupyter.widget-view+json": {
       "model_id": "1b49967b12b8406f8f7598572998d07c",
       "version_major": 2,
       "version_minor": 0
      },
      "text/plain": [
       "classification/sms/valid.json:   0%|          | 0.00/217k [00:00<?, ?B/s]"
      ]
     },
     "metadata": {},
     "output_type": "display_data"
    },
    {
     "data": {
      "application/vnd.jupyter.widget-view+json": {
       "model_id": "40126eac380b48d89b47c769b5b4e879",
       "version_major": 2,
       "version_minor": 0
      },
      "text/plain": [
       "classification/spambase/rules.json:   0%|          | 0.00/9.63k [00:00<?, ?B/s]"
      ]
     },
     "metadata": {},
     "output_type": "display_data"
    },
    {
     "data": {
      "application/vnd.jupyter.widget-view+json": {
       "model_id": "361a07fef2b740aba94c65e31e1e23e9",
       "version_major": 2,
       "version_minor": 0
      },
      "text/plain": [
       "classification/spambase/label.json:   0%|          | 0.00/24.0 [00:00<?, ?B/s]"
      ]
     },
     "metadata": {},
     "output_type": "display_data"
    },
    {
     "data": {
      "application/vnd.jupyter.widget-view+json": {
       "model_id": "4b39ef2bd2774ec9829d25b1ca7ece39",
       "version_major": 2,
       "version_minor": 0
      },
      "text/plain": [
       "classification/spambase/test.json:   0%|          | 0.00/193k [00:00<?, ?B/s]"
      ]
     },
     "metadata": {},
     "output_type": "display_data"
    },
    {
     "data": {
      "application/vnd.jupyter.widget-view+json": {
       "model_id": "d2632a9eb85b49fba39a9ebfaa970ee7",
       "version_major": 2,
       "version_minor": 0
      },
      "text/plain": [
       "classification/spambase/train.json:   0%|          | 0.00/1.55M [00:00<?, ?B/s]"
      ]
     },
     "metadata": {},
     "output_type": "display_data"
    },
    {
     "data": {
      "application/vnd.jupyter.widget-view+json": {
       "model_id": "b2b644e71c654d80948029f0f4290f91",
       "version_major": 2,
       "version_minor": 0
      },
      "text/plain": [
       "classification/spouse/label.json:   0%|          | 0.00/34.0 [00:00<?, ?B/s]"
      ]
     },
     "metadata": {},
     "output_type": "display_data"
    },
    {
     "data": {
      "application/vnd.jupyter.widget-view+json": {
       "model_id": "3e2165b8e17c4f10b1777c70ca4d8a66",
       "version_major": 2,
       "version_minor": 0
      },
      "text/plain": [
       "classification/spambase/valid.json:   0%|          | 0.00/193k [00:00<?, ?B/s]"
      ]
     },
     "metadata": {},
     "output_type": "display_data"
    },
    {
     "data": {
      "application/vnd.jupyter.widget-view+json": {
       "model_id": "465341cd968c43f29b748c63b1e01ac9",
       "version_major": 2,
       "version_minor": 0
      },
      "text/plain": [
       "classification/spouse/readme.txt:   0%|          | 0.00/3.42k [00:00<?, ?B/s]"
      ]
     },
     "metadata": {},
     "output_type": "display_data"
    },
    {
     "data": {
      "application/vnd.jupyter.widget-view+json": {
       "model_id": "d5ff8143854e4eceb7ee80c1a94daa49",
       "version_major": 2,
       "version_minor": 0
      },
      "text/plain": [
       "classification/spouse/valid.json:   0%|          | 0.00/2.23M [00:00<?, ?B/s]"
      ]
     },
     "metadata": {},
     "output_type": "display_data"
    },
    {
     "data": {
      "application/vnd.jupyter.widget-view+json": {
       "model_id": "9fe5f8a6ba2b4035bbd2c75525cb2653",
       "version_major": 2,
       "version_minor": 0
      },
      "text/plain": [
       "classification/spouse/test.json:   0%|          | 0.00/2.07M [00:00<?, ?B/s]"
      ]
     },
     "metadata": {},
     "output_type": "display_data"
    },
    {
     "data": {
      "application/vnd.jupyter.widget-view+json": {
       "model_id": "b260d1bf5290467792a7973e38f03951",
       "version_major": 2,
       "version_minor": 0
      },
      "text/plain": [
       "classification/tennis/label.json:   0%|          | 0.00/16.0 [00:00<?, ?B/s]"
      ]
     },
     "metadata": {},
     "output_type": "display_data"
    },
    {
     "data": {
      "application/vnd.jupyter.widget-view+json": {
       "model_id": "301db98e63904a0b8afeeb0f3e17ef2b",
       "version_major": 2,
       "version_minor": 0
      },
      "text/plain": [
       "train.json:   0%|          | 0.00/17.7M [00:00<?, ?B/s]"
      ]
     },
     "metadata": {},
     "output_type": "display_data"
    },
    {
     "data": {
      "application/vnd.jupyter.widget-view+json": {
       "model_id": "7b036848c1cd495b82547cc786abf69b",
       "version_major": 2,
       "version_minor": 0
      },
      "text/plain": [
       "test.json:   0%|          | 0.00/45.5M [00:00<?, ?B/s]"
      ]
     },
     "metadata": {},
     "output_type": "display_data"
    },
    {
     "data": {
      "application/vnd.jupyter.widget-view+json": {
       "model_id": "3f6d5c74177f46678c01023c6d297285",
       "version_major": 2,
       "version_minor": 0
      },
      "text/plain": [
       "train.json:   0%|          | 0.00/288M [00:00<?, ?B/s]"
      ]
     },
     "metadata": {},
     "output_type": "display_data"
    },
    {
     "data": {
      "application/vnd.jupyter.widget-view+json": {
       "model_id": "9949c210f4724a90994438ca23366f7f",
       "version_major": 2,
       "version_minor": 0
      },
      "text/plain": [
       "classification/tennis/readme.txt:   0%|          | 0.00/709 [00:00<?, ?B/s]"
      ]
     },
     "metadata": {},
     "output_type": "display_data"
    },
    {
     "data": {
      "application/vnd.jupyter.widget-view+json": {
       "model_id": "9c046534f61d4f0eb0343712e50c9055",
       "version_major": 2,
       "version_minor": 0
      },
      "text/plain": [
       "classification/trec/label.json:   0%|          | 0.00/75.0 [00:00<?, ?B/s]"
      ]
     },
     "metadata": {},
     "output_type": "display_data"
    },
    {
     "data": {
      "application/vnd.jupyter.widget-view+json": {
       "model_id": "6b461676b3824f9783e8dfb09cabc5e1",
       "version_major": 2,
       "version_minor": 0
      },
      "text/plain": [
       "valid.json:   0%|          | 0.00/30.9M [00:00<?, ?B/s]"
      ]
     },
     "metadata": {},
     "output_type": "display_data"
    },
    {
     "data": {
      "application/vnd.jupyter.widget-view+json": {
       "model_id": "9bd15e76a46746e7b9dc88efdec244a9",
       "version_major": 2,
       "version_minor": 0
      },
      "text/plain": [
       "classification/trec/labeled_ids.json:   0%|          | 0.00/1.13k [00:00<?, ?B/s]"
      ]
     },
     "metadata": {},
     "output_type": "display_data"
    },
    {
     "data": {
      "application/vnd.jupyter.widget-view+json": {
       "model_id": "61f50084050646f88bfef732543961ab",
       "version_major": 2,
       "version_minor": 0
      },
      "text/plain": [
       "classification/trec/readme.txt:   0%|          | 0.00/9.13k [00:00<?, ?B/s]"
      ]
     },
     "metadata": {},
     "output_type": "display_data"
    },
    {
     "data": {
      "application/vnd.jupyter.widget-view+json": {
       "model_id": "866e92aecf614a5c91d919c92ea4847f",
       "version_major": 2,
       "version_minor": 0
      },
      "text/plain": [
       "classification/trec/train.json:   0%|          | 0.00/1.93M [00:00<?, ?B/s]"
      ]
     },
     "metadata": {},
     "output_type": "display_data"
    },
    {
     "data": {
      "application/vnd.jupyter.widget-view+json": {
       "model_id": "09ec78b96623445aa1fd3c39abfe63f0",
       "version_major": 2,
       "version_minor": 0
      },
      "text/plain": [
       "classification/trec/test.json:   0%|          | 0.00/186k [00:00<?, ?B/s]"
      ]
     },
     "metadata": {},
     "output_type": "display_data"
    },
    {
     "data": {
      "application/vnd.jupyter.widget-view+json": {
       "model_id": "dc389176bfa54c45b774634cdb164dfc",
       "version_major": 2,
       "version_minor": 0
      },
      "text/plain": [
       "classification/trec/valid.json:   0%|          | 0.00/190k [00:00<?, ?B/s]"
      ]
     },
     "metadata": {},
     "output_type": "display_data"
    },
    {
     "data": {
      "application/vnd.jupyter.widget-view+json": {
       "model_id": "9d1d6880f3db474eadb27c920331d140",
       "version_major": 2,
       "version_minor": 0
      },
      "text/plain": [
       "classification/yelp/readme.txt:   0%|          | 0.00/2.65k [00:00<?, ?B/s]"
      ]
     },
     "metadata": {},
     "output_type": "display_data"
    },
    {
     "data": {
      "application/vnd.jupyter.widget-view+json": {
       "model_id": "8fcc937d1a3b4da7bdc41275c02a9f6c",
       "version_major": 2,
       "version_minor": 0
      },
      "text/plain": [
       "classification/yelp/label.json:   0%|          | 0.00/44.0 [00:00<?, ?B/s]"
      ]
     },
     "metadata": {},
     "output_type": "display_data"
    },
    {
     "data": {
      "application/vnd.jupyter.widget-view+json": {
       "model_id": "f23fd0c916014cc7a4395da4bc72c8c5",
       "version_major": 2,
       "version_minor": 0
      },
      "text/plain": [
       "classification/yelp/test.json:   0%|          | 0.00/3.02M [00:00<?, ?B/s]"
      ]
     },
     "metadata": {},
     "output_type": "display_data"
    },
    {
     "data": {
      "application/vnd.jupyter.widget-view+json": {
       "model_id": "456c8d9d351f455fa1b303744450be69",
       "version_major": 2,
       "version_minor": 0
      },
      "text/plain": [
       "train.json:   0%|          | 0.00/25.1M [00:00<?, ?B/s]"
      ]
     },
     "metadata": {},
     "output_type": "display_data"
    },
    {
     "data": {
      "application/vnd.jupyter.widget-view+json": {
       "model_id": "778bdb310e0d4dd28f2ccbf32e64434f",
       "version_major": 2,
       "version_minor": 0
      },
      "text/plain": [
       "classification/youtube/label.json:   0%|          | 0.00/25.0 [00:00<?, ?B/s]"
      ]
     },
     "metadata": {},
     "output_type": "display_data"
    },
    {
     "data": {
      "application/vnd.jupyter.widget-view+json": {
       "model_id": "a646200ff0834f3180338c3a21c74394",
       "version_major": 2,
       "version_minor": 0
      },
      "text/plain": [
       "classification/yelp/valid.json:   0%|          | 0.00/3.13M [00:00<?, ?B/s]"
      ]
     },
     "metadata": {},
     "output_type": "display_data"
    },
    {
     "data": {
      "application/vnd.jupyter.widget-view+json": {
       "model_id": "64fe83fa3e6c4ef199701f41b9d2d476",
       "version_major": 2,
       "version_minor": 0
      },
      "text/plain": [
       "classification/youtube/labeled_ids.json:   0%|          | 0.00/844 [00:00<?, ?B/s]"
      ]
     },
     "metadata": {},
     "output_type": "display_data"
    },
    {
     "data": {
      "application/vnd.jupyter.widget-view+json": {
       "model_id": "95d11dfbf1cd4aa1af8718ae6ea2d2fe",
       "version_major": 2,
       "version_minor": 0
      },
      "text/plain": [
       "classification/youtube/readme.txt:   0%|          | 0.00/1.02k [00:00<?, ?B/s]"
      ]
     },
     "metadata": {},
     "output_type": "display_data"
    },
    {
     "data": {
      "application/vnd.jupyter.widget-view+json": {
       "model_id": "7ca41439b01145409e98bd250eb9b314",
       "version_major": 2,
       "version_minor": 0
      },
      "text/plain": [
       "classification/youtube/test.json:   0%|          | 0.00/54.2k [00:00<?, ?B/s]"
      ]
     },
     "metadata": {},
     "output_type": "display_data"
    },
    {
     "data": {
      "application/vnd.jupyter.widget-view+json": {
       "model_id": "dfb7ab7e3afc4d57a2edc1665027dedc",
       "version_major": 2,
       "version_minor": 0
      },
      "text/plain": [
       "classification/youtube/train.json:   0%|          | 0.00/340k [00:00<?, ?B/s]"
      ]
     },
     "metadata": {},
     "output_type": "display_data"
    },
    {
     "data": {
      "application/vnd.jupyter.widget-view+json": {
       "model_id": "5e022c1f943b490b8c7a8045f2a9ebc2",
       "version_major": 2,
       "version_minor": 0
      },
      "text/plain": [
       "classification/youtube/valid.json:   0%|          | 0.00/24.5k [00:00<?, ?B/s]"
      ]
     },
     "metadata": {},
     "output_type": "display_data"
    },
    {
     "data": {
      "application/vnd.jupyter.widget-view+json": {
       "model_id": "32ac0d7a81324b37ab8d55479dffdbc6",
       "version_major": 2,
       "version_minor": 0
      },
      "text/plain": [
       "sequence tagging/bc5cdr/meta.json:   0%|          | 0.00/847 [00:00<?, ?B/s]"
      ]
     },
     "metadata": {},
     "output_type": "display_data"
    },
    {
     "data": {
      "application/vnd.jupyter.widget-view+json": {
       "model_id": "2a7e679e4ea5420580c8897b0b49e57e",
       "version_major": 2,
       "version_minor": 0
      },
      "text/plain": [
       "sequence tagging/bc5cdr/readme.txt:   0%|          | 0.00/544 [00:00<?, ?B/s]"
      ]
     },
     "metadata": {},
     "output_type": "display_data"
    },
    {
     "data": {
      "application/vnd.jupyter.widget-view+json": {
       "model_id": "561bb4b60c1a46a580c61dcc7f2650e1",
       "version_major": 2,
       "version_minor": 0
      },
      "text/plain": [
       "sequence tagging/bc5cdr/test.json:   0%|          | 0.00/7.18M [00:00<?, ?B/s]"
      ]
     },
     "metadata": {},
     "output_type": "display_data"
    },
    {
     "data": {
      "application/vnd.jupyter.widget-view+json": {
       "model_id": "775c937f0c3c4015b2f51736263791b8",
       "version_major": 2,
       "version_minor": 0
      },
      "text/plain": [
       "sequence tagging/bc5cdr/train.json:   0%|          | 0.00/6.90M [00:00<?, ?B/s]"
      ]
     },
     "metadata": {},
     "output_type": "display_data"
    },
    {
     "data": {
      "application/vnd.jupyter.widget-view+json": {
       "model_id": "a5601906b1334808b3e2a29286f6f8c3",
       "version_major": 2,
       "version_minor": 0
      },
      "text/plain": [
       "sequence tagging/conll/meta.json:   0%|          | 0.00/1.20k [00:00<?, ?B/s]"
      ]
     },
     "metadata": {},
     "output_type": "display_data"
    },
    {
     "data": {
      "application/vnd.jupyter.widget-view+json": {
       "model_id": "f7377eb489064649b6bec37577975848",
       "version_major": 2,
       "version_minor": 0
      },
      "text/plain": [
       "sequence tagging/bc5cdr/valid.json:   0%|          | 0.00/6.84M [00:00<?, ?B/s]"
      ]
     },
     "metadata": {},
     "output_type": "display_data"
    },
    {
     "data": {
      "application/vnd.jupyter.widget-view+json": {
       "model_id": "8e17772bb4e842da84f1079b28e4bd90",
       "version_major": 2,
       "version_minor": 0
      },
      "text/plain": [
       "sequence tagging/conll/readme.txt:   0%|          | 0.00/534 [00:00<?, ?B/s]"
      ]
     },
     "metadata": {},
     "output_type": "display_data"
    },
    {
     "data": {
      "application/vnd.jupyter.widget-view+json": {
       "model_id": "a3c2d7701c894ea6a9399a2d0f7d7c8b",
       "version_major": 2,
       "version_minor": 0
      },
      "text/plain": [
       "sequence tagging/conll/test.json:   0%|          | 0.00/4.84M [00:00<?, ?B/s]"
      ]
     },
     "metadata": {},
     "output_type": "display_data"
    },
    {
     "data": {
      "application/vnd.jupyter.widget-view+json": {
       "model_id": "bfd0a4654db644baa5a629c137711afd",
       "version_major": 2,
       "version_minor": 0
      },
      "text/plain": [
       "train.json:   0%|          | 0.00/21.1M [00:00<?, ?B/s]"
      ]
     },
     "metadata": {},
     "output_type": "display_data"
    },
    {
     "data": {
      "application/vnd.jupyter.widget-view+json": {
       "model_id": "5bb1ca26c2fc43ef9cd08d8f22b53fd1",
       "version_major": 2,
       "version_minor": 0
      },
      "text/plain": [
       "sequence tagging/conll/valid.json:   0%|          | 0.00/5.32M [00:00<?, ?B/s]"
      ]
     },
     "metadata": {},
     "output_type": "display_data"
    },
    {
     "data": {
      "application/vnd.jupyter.widget-view+json": {
       "model_id": "5925048d6eea4335a1666f6449bd50c3",
       "version_major": 2,
       "version_minor": 0
      },
      "text/plain": [
       "sequence tagging/laptopreview/meta.json:   0%|          | 0.00/432 [00:00<?, ?B/s]"
      ]
     },
     "metadata": {},
     "output_type": "display_data"
    },
    {
     "data": {
      "application/vnd.jupyter.widget-view+json": {
       "model_id": "d6e4da148fb849d69aaae97507425992",
       "version_major": 2,
       "version_minor": 0
      },
      "text/plain": [
       "sequence tagging/laptopreview/readme.txt:   0%|          | 0.00/348 [00:00<?, ?B/s]"
      ]
     },
     "metadata": {},
     "output_type": "display_data"
    },
    {
     "data": {
      "application/vnd.jupyter.widget-view+json": {
       "model_id": "db1b31f958944a44955b24413bb5c7b4",
       "version_major": 2,
       "version_minor": 0
      },
      "text/plain": [
       "sequence tagging/laptopreview/test.json:   0%|          | 0.00/418k [00:00<?, ?B/s]"
      ]
     },
     "metadata": {},
     "output_type": "display_data"
    },
    {
     "data": {
      "application/vnd.jupyter.widget-view+json": {
       "model_id": "cbd1e589602145b598cb67f7a03cbd0f",
       "version_major": 2,
       "version_minor": 0
      },
      "text/plain": [
       "sequence tagging/laptopreview/train.json:   0%|          | 0.00/1.42M [00:00<?, ?B/s]"
      ]
     },
     "metadata": {},
     "output_type": "display_data"
    },
    {
     "data": {
      "application/vnd.jupyter.widget-view+json": {
       "model_id": "babe38cbc543452daa72bd8a884ee999",
       "version_major": 2,
       "version_minor": 0
      },
      "text/plain": [
       "sequence tagging/laptopreview/valid.json:   0%|          | 0.00/357k [00:00<?, ?B/s]"
      ]
     },
     "metadata": {},
     "output_type": "display_data"
    },
    {
     "data": {
      "application/vnd.jupyter.widget-view+json": {
       "model_id": "2eb7988ffdcf471da3c27167ac8e67be",
       "version_major": 2,
       "version_minor": 0
      },
      "text/plain": [
       "sequence tagging/mit-movies/meta.json:   0%|          | 0.00/794 [00:00<?, ?B/s]"
      ]
     },
     "metadata": {},
     "output_type": "display_data"
    },
    {
     "data": {
      "application/vnd.jupyter.widget-view+json": {
       "model_id": "2051b735450a4ee6b8ee9711d889d18c",
       "version_major": 2,
       "version_minor": 0
      },
      "text/plain": [
       "sequence tagging/mit-movies/readme.txt:   0%|          | 0.00/484 [00:00<?, ?B/s]"
      ]
     },
     "metadata": {},
     "output_type": "display_data"
    },
    {
     "data": {
      "application/vnd.jupyter.widget-view+json": {
       "model_id": "6a989a6b87e94e3a897af2efca86e94b",
       "version_major": 2,
       "version_minor": 0
      },
      "text/plain": [
       "sequence tagging/mit-movies/test.json:   0%|          | 0.00/1.56M [00:00<?, ?B/s]"
      ]
     },
     "metadata": {},
     "output_type": "display_data"
    },
    {
     "data": {
      "application/vnd.jupyter.widget-view+json": {
       "model_id": "58c52c8b48c14de69742328412500b6f",
       "version_major": 2,
       "version_minor": 0
      },
      "text/plain": [
       "sequence tagging/mit-movies/train.json:   0%|          | 0.00/5.96M [00:00<?, ?B/s]"
      ]
     },
     "metadata": {},
     "output_type": "display_data"
    },
    {
     "data": {
      "application/vnd.jupyter.widget-view+json": {
       "model_id": "e4aa1393305441328fe9c238b8d712d3",
       "version_major": 2,
       "version_minor": 0
      },
      "text/plain": [
       "sequence tagging/mit-movies/valid.json:   0%|          | 0.00/326k [00:00<?, ?B/s]"
      ]
     },
     "metadata": {},
     "output_type": "display_data"
    },
    {
     "data": {
      "application/vnd.jupyter.widget-view+json": {
       "model_id": "6ada7be9737744c994c707b736e510de",
       "version_major": 2,
       "version_minor": 0
      },
      "text/plain": [
       "(…)quence tagging/mit-restaurants/meta.json:   0%|          | 0.00/1.01k [00:00<?, ?B/s]"
      ]
     },
     "metadata": {},
     "output_type": "display_data"
    },
    {
     "data": {
      "application/vnd.jupyter.widget-view+json": {
       "model_id": "f6f2ead04bc8482193ffe2a1d0ff0761",
       "version_major": 2,
       "version_minor": 0
      },
      "text/plain": [
       "(…)uence tagging/mit-restaurants/readme.txt:   0%|          | 0.00/3.45k [00:00<?, ?B/s]"
      ]
     },
     "metadata": {},
     "output_type": "display_data"
    },
    {
     "data": {
      "application/vnd.jupyter.widget-view+json": {
       "model_id": "ac8f3511b89d4a51ae3354a5bdaf0625",
       "version_major": 2,
       "version_minor": 0
      },
      "text/plain": [
       "(…)uence tagging/mit-restaurants/train.json:   0%|          | 0.00/7.10M [00:00<?, ?B/s]"
      ]
     },
     "metadata": {},
     "output_type": "display_data"
    },
    {
     "data": {
      "application/vnd.jupyter.widget-view+json": {
       "model_id": "99710b3c645a4f859962284fe8fd2303",
       "version_major": 2,
       "version_minor": 0
      },
      "text/plain": [
       "(…)uence tagging/mit-restaurants/valid.json:   0%|          | 0.00/495k [00:00<?, ?B/s]"
      ]
     },
     "metadata": {},
     "output_type": "display_data"
    },
    {
     "data": {
      "application/vnd.jupyter.widget-view+json": {
       "model_id": "779b09bdf1a84ff5a6091ec6a9b6f140",
       "version_major": 2,
       "version_minor": 0
      },
      "text/plain": [
       "(…)quence tagging/mit-restaurants/test.json:   0%|          | 0.00/1.54M [00:00<?, ?B/s]"
      ]
     },
     "metadata": {},
     "output_type": "display_data"
    },
    {
     "data": {
      "application/vnd.jupyter.widget-view+json": {
       "model_id": "9107a55c1000427f97b9f5e6c95443ab",
       "version_major": 2,
       "version_minor": 0
      },
      "text/plain": [
       "sequence tagging/ncbi-disease/meta.json:   0%|          | 0.00/547 [00:00<?, ?B/s]"
      ]
     },
     "metadata": {},
     "output_type": "display_data"
    },
    {
     "data": {
      "application/vnd.jupyter.widget-view+json": {
       "model_id": "5688e0d50c7140aa8b6d7949f74fd770",
       "version_major": 2,
       "version_minor": 0
      },
      "text/plain": [
       "sequence tagging/ncbi-disease/test.json:   0%|          | 0.00/975k [00:00<?, ?B/s]"
      ]
     },
     "metadata": {},
     "output_type": "display_data"
    },
    {
     "data": {
      "application/vnd.jupyter.widget-view+json": {
       "model_id": "ab279aca37d94752b238c0b282cf9cb8",
       "version_major": 2,
       "version_minor": 0
      },
      "text/plain": [
       "sequence tagging/ncbi-disease/valid.json:   0%|          | 0.00/958k [00:00<?, ?B/s]"
      ]
     },
     "metadata": {},
     "output_type": "display_data"
    },
    {
     "data": {
      "application/vnd.jupyter.widget-view+json": {
       "model_id": "c239f6d12bf442aa81e76429d90c4bcb",
       "version_major": 2,
       "version_minor": 0
      },
      "text/plain": [
       "sequence tagging/ncbi-disease/train.json:   0%|          | 0.00/5.47M [00:00<?, ?B/s]"
      ]
     },
     "metadata": {},
     "output_type": "display_data"
    },
    {
     "data": {
      "application/vnd.jupyter.widget-view+json": {
       "model_id": "72aa03306c4e4fe993a4b3ec84664c97",
       "version_major": 2,
       "version_minor": 0
      },
      "text/plain": [
       "sequence tagging/ontonotes/meta.json:   0%|          | 0.00/1.43k [00:00<?, ?B/s]"
      ]
     },
     "metadata": {},
     "output_type": "display_data"
    },
    {
     "data": {
      "application/vnd.jupyter.widget-view+json": {
       "model_id": "a70ff50f27ee461b8466bb07b449775d",
       "version_major": 2,
       "version_minor": 0
      },
      "text/plain": [
       "sequence tagging/ontonotes/readme.txt:   0%|          | 0.00/792 [00:00<?, ?B/s]"
      ]
     },
     "metadata": {},
     "output_type": "display_data"
    },
    {
     "data": {
      "application/vnd.jupyter.widget-view+json": {
       "model_id": "b557620a29ee4b368887faf2cd8d8a45",
       "version_major": 2,
       "version_minor": 0
      },
      "text/plain": [
       "sequence tagging/ncbi-disease/readme.txt:   0%|          | 0.00/395 [00:00<?, ?B/s]"
      ]
     },
     "metadata": {},
     "output_type": "display_data"
    },
    {
     "data": {
      "application/vnd.jupyter.widget-view+json": {
       "model_id": "357769aee154425c95f32c4c9a905db5",
       "version_major": 2,
       "version_minor": 0
      },
      "text/plain": [
       "sequence tagging/ontonotes/valid.json:   0%|          | 0.00/8.97M [00:00<?, ?B/s]"
      ]
     },
     "metadata": {},
     "output_type": "display_data"
    },
    {
     "data": {
      "application/vnd.jupyter.widget-view+json": {
       "model_id": "1c2d6880e37748e0825af825a2c30814",
       "version_major": 2,
       "version_minor": 0
      },
      "text/plain": [
       "train.json:   0%|          | 0.00/234M [00:00<?, ?B/s]"
      ]
     },
     "metadata": {},
     "output_type": "display_data"
    },
    {
     "data": {
      "application/vnd.jupyter.widget-view+json": {
       "model_id": "02eb8714f9b348578a7886de74e39a6c",
       "version_major": 2,
       "version_minor": 0
      },
      "text/plain": [
       "test.json:   0%|          | 0.00/47.8M [00:00<?, ?B/s]"
      ]
     },
     "metadata": {},
     "output_type": "display_data"
    },
    {
     "data": {
      "application/vnd.jupyter.widget-view+json": {
       "model_id": "3dd39379965047e7969164935fbf46a1",
       "version_major": 2,
       "version_minor": 0
      },
      "text/plain": [
       "sequence tagging/wikigold/meta.json:   0%|          | 0.00/1.19k [00:00<?, ?B/s]"
      ]
     },
     "metadata": {},
     "output_type": "display_data"
    },
    {
     "data": {
      "application/vnd.jupyter.widget-view+json": {
       "model_id": "a315496af91b429286c7db4bdb5fd6dd",
       "version_major": 2,
       "version_minor": 0
      },
      "text/plain": [
       "sequence tagging/wikigold/readme.txt:   0%|          | 0.00/576 [00:00<?, ?B/s]"
      ]
     },
     "metadata": {},
     "output_type": "display_data"
    },
    {
     "data": {
      "application/vnd.jupyter.widget-view+json": {
       "model_id": "0257e4e44a4e4707af1ccb3d3406e728",
       "version_major": 2,
       "version_minor": 0
      },
      "text/plain": [
       "sequence tagging/wikigold/test.json:   0%|          | 0.00/384k [00:00<?, ?B/s]"
      ]
     },
     "metadata": {},
     "output_type": "display_data"
    },
    {
     "data": {
      "application/vnd.jupyter.widget-view+json": {
       "model_id": "6323f58326984b6f93a77426f129e38e",
       "version_major": 2,
       "version_minor": 0
      },
      "text/plain": [
       "sequence tagging/wikigold/train.json:   0%|          | 0.00/3.21M [00:00<?, ?B/s]"
      ]
     },
     "metadata": {},
     "output_type": "display_data"
    },
    {
     "data": {
      "application/vnd.jupyter.widget-view+json": {
       "model_id": "9a2926b69c084d5a9d3d96560b3ac868",
       "version_major": 2,
       "version_minor": 0
      },
      "text/plain": [
       "sequence tagging/wikigold/valid.json:   0%|          | 0.00/376k [00:00<?, ?B/s]"
      ]
     },
     "metadata": {},
     "output_type": "display_data"
    },
    {
     "data": {
      "text/plain": [
       "'/Users/chenjieli/Desktop/RuleCleaner/ExperimentsInPaper/Datasets/path to local dir'"
      ]
     },
     "execution_count": 1,
     "metadata": {},
     "output_type": "execute_result"
    }
   ],
   "source": [
    "from huggingface_hub import snapshot_download\n",
    "path = \"path to local dir\"\n",
    "snapshot_download(repo_id=\"jieyuz2/WRENCH\", repo_type=\"dataset\", local_dir=path)"
   ]
  }
 ],
 "metadata": {
  "kernelspec": {
   "display_name": "Python 3 (ipykernel)",
   "language": "python",
   "name": "python3"
  },
  "language_info": {
   "codemirror_mode": {
    "name": "ipython",
    "version": 3
   },
   "file_extension": ".py",
   "mimetype": "text/x-python",
   "name": "python",
   "nbconvert_exporter": "python",
   "pygments_lexer": "ipython3",
   "version": "3.10.0"
  }
 },
 "nbformat": 4,
 "nbformat_minor": 5
}
